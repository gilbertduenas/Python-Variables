{
  "nbformat": 4,
  "nbformat_minor": 0,
  "metadata": {
    "colab": {
      "name": "Python Variables",
      "provenance": [],
      "authorship_tag": "ABX9TyNP9rfIWqDo0Xm4DX8x4U3x",
      "include_colab_link": true
    },
    "kernelspec": {
      "name": "python3",
      "display_name": "Python 3"
    }
  },
  "cells": [
    {
      "cell_type": "markdown",
      "metadata": {
        "id": "view-in-github",
        "colab_type": "text"
      },
      "source": [
        "<a href=\"https://colab.research.google.com/github/gilbertduenas/Python-Variables/blob/master/Python_Variables.ipynb\" target=\"_parent\"><img src=\"https://colab.research.google.com/assets/colab-badge.svg\" alt=\"Open In Colab\"/></a>"
      ]
    },
    {
      "cell_type": "markdown",
      "metadata": {
        "id": "uJ61rEJS42xP",
        "colab_type": "text"
      },
      "source": [
        "Variables need not be declared or defined in advance in Python. To create a variable, you just assign it a value.\n",
        "\n",
        "---\n",
        "\n"
      ]
    },
    {
      "cell_type": "code",
      "metadata": {
        "id": "unb8JJFP49nB",
        "colab_type": "code",
        "colab": {
          "base_uri": "https://localhost:8080/",
          "height": 132
        },
        "outputId": "b5df89b7-de30-46ef-8eab-3dd5b68d73ab"
      },
      "source": [
        "let x = 100"
      ],
      "execution_count": 1,
      "outputs": [
        {
          "output_type": "error",
          "ename": "SyntaxError",
          "evalue": "ignored",
          "traceback": [
            "\u001b[0;36m  File \u001b[0;32m\"<ipython-input-1-c9494a479ee2>\"\u001b[0;36m, line \u001b[0;32m1\u001b[0m\n\u001b[0;31m    let x = 100\u001b[0m\n\u001b[0m        ^\u001b[0m\n\u001b[0;31mSyntaxError\u001b[0m\u001b[0;31m:\u001b[0m invalid syntax\n"
          ]
        }
      ]
    },
    {
      "cell_type": "code",
      "metadata": {
        "id": "OMpJhNns5Bza",
        "colab_type": "code",
        "colab": {}
      },
      "source": [
        "x = 100"
      ],
      "execution_count": 2,
      "outputs": []
    },
    {
      "cell_type": "code",
      "metadata": {
        "id": "lMIN4FcC5FwA",
        "colab_type": "code",
        "colab": {
          "base_uri": "https://localhost:8080/",
          "height": 35
        },
        "outputId": "bfbe8b71-f264-4a3b-adee-724a654ad0e7"
      },
      "source": [
        "x << 100"
      ],
      "execution_count": 3,
      "outputs": [
        {
          "output_type": "execute_result",
          "data": {
            "text/plain": [
              "126765060022822940149670320537600"
            ]
          },
          "metadata": {
            "tags": []
          },
          "execution_count": 3
        }
      ]
    },
    {
      "cell_type": "code",
      "metadata": {
        "id": "GUes3iey5Hci",
        "colab_type": "code",
        "colab": {
          "base_uri": "https://localhost:8080/",
          "height": 132
        },
        "outputId": "8a0a0928-3fff-46c7-f4d3-07cf269d1af2"
      },
      "source": [
        "x := 100"
      ],
      "execution_count": 4,
      "outputs": [
        {
          "output_type": "error",
          "ename": "SyntaxError",
          "evalue": "ignored",
          "traceback": [
            "\u001b[0;36m  File \u001b[0;32m\"<ipython-input-4-6994f9e9e369>\"\u001b[0;36m, line \u001b[0;32m1\u001b[0m\n\u001b[0;31m    x := 100\u001b[0m\n\u001b[0m       ^\u001b[0m\n\u001b[0;31mSyntaxError\u001b[0m\u001b[0;31m:\u001b[0m invalid syntax\n"
          ]
        }
      ]
    },
    {
      "cell_type": "code",
      "metadata": {
        "id": "SQqLf04R5P9h",
        "colab_type": "code",
        "colab": {
          "base_uri": "https://localhost:8080/",
          "height": 132
        },
        "outputId": "2c33b3da-3aae-492d-90a0-dc112d488763"
      },
      "source": [
        "x ← 100"
      ],
      "execution_count": 5,
      "outputs": [
        {
          "output_type": "error",
          "ename": "SyntaxError",
          "evalue": "ignored",
          "traceback": [
            "\u001b[0;36m  File \u001b[0;32m\"<ipython-input-5-1fc5844c5b01>\"\u001b[0;36m, line \u001b[0;32m1\u001b[0m\n\u001b[0;31m    x ← 100\u001b[0m\n\u001b[0m      ^\u001b[0m\n\u001b[0;31mSyntaxError\u001b[0m\u001b[0;31m:\u001b[0m invalid character in identifier\n"
          ]
        }
      ]
    },
    {
      "cell_type": "markdown",
      "metadata": {
        "id": "VcrCfrQf62v5",
        "colab_type": "text"
      },
      "source": [
        "Only x = 100 assigns 100 to x.\n",
        "\n",
        "---"
      ]
    },
    {
      "cell_type": "code",
      "metadata": {
        "id": "7bf9Ow4q5Rlr",
        "colab_type": "code",
        "colab": {}
      },
      "source": [
        "n = 300\n",
        "m = n"
      ],
      "execution_count": 6,
      "outputs": []
    },
    {
      "cell_type": "markdown",
      "metadata": {
        "id": "9q6p4SrS6Ix-",
        "colab_type": "text"
      },
      "source": [
        "The first statement creates an integer object with value 300, and n is a reference to it. The second statement creates a second reference to the already existing object.\n",
        "\n",
        "---"
      ]
    },
    {
      "cell_type": "code",
      "metadata": {
        "id": "FRx7B9AH6HvB",
        "colab_type": "code",
        "colab": {
          "base_uri": "https://localhost:8080/",
          "height": 35
        },
        "outputId": "e0160345-e08b-414c-b0ae-4a4b4e44cc8c"
      },
      "source": [
        "id(n)"
      ],
      "execution_count": 7,
      "outputs": [
        {
          "output_type": "execute_result",
          "data": {
            "text/plain": [
              "140518131329328"
            ]
          },
          "metadata": {
            "tags": []
          },
          "execution_count": 7
        }
      ]
    },
    {
      "cell_type": "code",
      "metadata": {
        "id": "ZC43_sTN6Un-",
        "colab_type": "code",
        "colab": {
          "base_uri": "https://localhost:8080/",
          "height": 35
        },
        "outputId": "ac9dd2bf-d517-487f-c780-59213859bdc2"
      },
      "source": [
        "id(m)"
      ],
      "execution_count": 8,
      "outputs": [
        {
          "output_type": "execute_result",
          "data": {
            "text/plain": [
              "140518131329328"
            ]
          },
          "metadata": {
            "tags": []
          },
          "execution_count": 8
        }
      ]
    },
    {
      "cell_type": "markdown",
      "metadata": {
        "id": "5yl4XcJf6lcV",
        "colab_type": "text"
      },
      "source": [
        "If two variables have the same id(), you know they reference the same object:\n",
        "\n",
        "---"
      ]
    },
    {
      "cell_type": "code",
      "metadata": {
        "id": "scauUgob6m2g",
        "colab_type": "code",
        "colab": {}
      },
      "source": [
        "# Valid variable names\n",
        "route66 = 0\n",
        "Age = 1\n",
        "home_address = 2"
      ],
      "execution_count": 9,
      "outputs": []
    },
    {
      "cell_type": "markdown",
      "metadata": {
        "id": "9BB3Iaig7Qez",
        "colab_type": "text"
      },
      "source": [
        "- 4square is not valid because it begins with a digit.\n",
        "- return is not valid because it is a Python reserved word (keyword).\n",
        "- version1.3 is not valid because it contains a character which is not a letter, digit or underscore.\n",
        "\n",
        "---"
      ]
    },
    {
      "cell_type": "code",
      "metadata": {
        "id": "jGqLAP3c7WX9",
        "colab_type": "code",
        "colab": {}
      },
      "source": [
        "employeenumber = 4398\n",
        "EmployeeNumber = 4398\n",
        "employeeNumber = 4398"
      ],
      "execution_count": 10,
      "outputs": []
    },
    {
      "cell_type": "markdown",
      "metadata": {
        "id": "Ru3Iv-E67i9q",
        "colab_type": "text"
      },
      "source": [
        "Case matters, so these variables are all different.\n",
        "\n",
        "---"
      ]
    },
    {
      "cell_type": "markdown",
      "metadata": {
        "id": "eWnZUGdp8E2_",
        "colab_type": "text"
      },
      "source": [
        "PEP8 recommends snake case for variable names.\n",
        "\n",
        "---"
      ]
    },
    {
      "cell_type": "markdown",
      "metadata": {
        "id": "yrshfiQf8Rmf",
        "colab_type": "text"
      },
      "source": [
        "These are reserved words in Python....\n",
        "\n",
        "- class\n",
        "- None\n",
        "- and\n",
        "\n",
        "---"
      ]
    },
    {
      "cell_type": "code",
      "metadata": {
        "id": "Yb1IfdNS7yde",
        "colab_type": "code",
        "colab": {}
      },
      "source": [
        ""
      ],
      "execution_count": null,
      "outputs": []
    }
  ]
}